{
 "cells": [
  {
   "cell_type": "markdown",
   "id": "f76cf3b1",
   "metadata": {},
   "source": [
    "## Dictionary Comprehensions"
   ]
  },
  {
   "cell_type": "code",
   "execution_count": 1,
   "id": "92d3299d",
   "metadata": {},
   "outputs": [
    {
     "data": {
      "text/plain": [
       "{'a': 'aardvark', 'b': 'bear', 'c': 'cat', 'd': 'dog'}"
      ]
     },
     "execution_count": 1,
     "metadata": {},
     "output_type": "execute_result"
    }
   ],
   "source": [
    "animalList = [('a', 'aardvark'), ('b', 'bear'), ('c', 'cat'), ('d', 'dog')]\n",
    "animals = {item[0]: item[1] for item in animalList}\n",
    "animals"
   ]
  },
  {
   "cell_type": "code",
   "execution_count": 4,
   "id": "68206d1c",
   "metadata": {},
   "outputs": [
    {
     "data": {
      "text/plain": [
       "{'a': 'aardvark', 'b': 'bear', 'c': 'cat', 'd': 'dog'}"
      ]
     },
     "execution_count": 4,
     "metadata": {},
     "output_type": "execute_result"
    }
   ],
   "source": [
    "animals = {key: value for key, value in animalList}\n",
    "animals"
   ]
  },
  {
   "cell_type": "code",
   "execution_count": 5,
   "id": "96bdf466",
   "metadata": {},
   "outputs": [
    {
     "data": {
      "text/plain": [
       "dict_items([('a', 'aardvark'), ('b', 'bear'), ('c', 'cat'), ('d', 'dog')])"
      ]
     },
     "execution_count": 5,
     "metadata": {},
     "output_type": "execute_result"
    }
   ],
   "source": [
    "animals.items()"
   ]
  },
  {
   "cell_type": "code",
   "execution_count": 6,
   "id": "467b6984",
   "metadata": {},
   "outputs": [
    {
     "data": {
      "text/plain": [
       "[('a', 'aardvark'), ('b', 'bear'), ('c', 'cat'), ('d', 'dog')]"
      ]
     },
     "execution_count": 6,
     "metadata": {},
     "output_type": "execute_result"
    }
   ],
   "source": [
    "list(animals.items())"
   ]
  },
  {
   "cell_type": "code",
   "execution_count": 28,
   "id": "494fe288",
   "metadata": {},
   "outputs": [],
   "source": [
    "import os\n",
    "import time\n",
    "from termcolor import colored\n",
    "import math \n",
    "import time"
   ]
  },
  {
   "cell_type": "code",
   "execution_count": 45,
   "id": "3766f5e9",
   "metadata": {},
   "outputs": [],
   "source": [
    "scribes = [\n",
    "    {'name': 'square',\n",
    "    'degrees':0,\n",
    "    'position': [0,0],\n",
    "    'instructions': [\n",
    "        {'direction':'right', 'duration':5},\n",
    "        {'direction':'down', 'duration':5},\n",
    "        {'direction':'left', 'duration':5},\n",
    "        {'direction':'up', 'duration':5}\n",
    "        ],\n",
    "      },\n",
    "    {'name': 'diamond',\n",
    "    'degrees':30,\n",
    "    'position': [5,5],\n",
    "    'instructions': [\n",
    "        {'direction':'diagonal_up_right', 'duration':5},\n",
    "        {'direction':'diagonal_down_right', 'duration':5},\n",
    "        {'direction':'diagonal_down_left', 'duration':5},\n",
    "        {'direction':'diagonal_up_left', 'duration':5}\n",
    "        ],\n",
    "      },\n",
    "    {'name': 'zigzag',\n",
    "    'degrees':30,\n",
    "    'position': [20,10],\n",
    "    'instructions': [\n",
    "        {'direction':'diagonal_up_left', 'duration':3},\n",
    "        {'direction':'diagonal_down_left', 'duration':3},\n",
    "        {'direction':'diagonal_up_left', 'duration':3},\n",
    "        {'direction':'diagonal_down_left', 'duration':3},\n",
    "        {'direction':'diagonal_up_left', 'duration':3},\n",
    "        {'direction':'diagonal_down_left', 'duration':3}\n",
    "        ],\n",
    "      }\n",
    "    ]"
   ]
  },
  {
   "cell_type": "code",
   "execution_count": 47,
   "id": "bdefac4e",
   "metadata": {},
   "outputs": [],
   "source": [
    "class Canvas:\n",
    "    def __init__(self, width, height):\n",
    "        self._x = width\n",
    "        self._y = height\n",
    "        self._canvas = [[' ' for y in range(self._y)] for x in range(self._x)]\n",
    "\n",
    "    def hitsWall(self, point):\n",
    "        return round(point[0]) < 0 or round(point[0]) >= self._x or round(point[1]) < 0 or round(point[1]) >= self._y\n",
    "\n",
    "    def setPos(self, pos, mark):\n",
    "        self._canvas[round(pos[0])][round(pos[1])] = mark\n",
    "\n",
    "    def clear(self):\n",
    "        os.system('cls' if os.name == 'nt' else 'clear')\n",
    "\n",
    "    def print(self):\n",
    "        self.clear()\n",
    "        for y in range(self._y):\n",
    "            print(' '.join([col[y] for col in self._canvas]))\n",
    "class TerminalScribe:\n",
    "    def __init__(self, canvas):\n",
    "        self.canvas = canvas\n",
    "        self.trail = '.'\n",
    "        self.mark = '*'\n",
    "        self.framerate = 0.05\n",
    "        self.pos = [0, 0]\n",
    "\n",
    "        self.direction = [0, 0]\n",
    "\n",
    "    def setDegrees(self, degrees):\n",
    "        radians = (degrees/180) * math.pi \n",
    "        self.direction = [math.sin(radians), -math.cos(radians)]\n",
    "    \n",
    "    def setPosition(self, pos):\n",
    "        self.pos = pos\n",
    "\n",
    "    def up(self):\n",
    "        self.direction = [0, -1]\n",
    "        self.forward()\n",
    "\n",
    "    def down(self):\n",
    "        self.direction = [0, 1]\n",
    "        self.forward()\n",
    "\n",
    "    def right(self):\n",
    "        self.direction = [1, 0]\n",
    "        self.forward()\n",
    "\n",
    "    def left(self):\n",
    "        self.direction = [-1, 0]\n",
    "        self.forward()\n",
    "    \n",
    "    def diagonal_down_right(self):\n",
    "       self.direction = [1,1]\n",
    "       self.forward()\n",
    "    \n",
    "    def diagonal_up_right(self):\n",
    "       self.direction = [1,-1]\n",
    "       #x=1 so cursor moves right\n",
    "       #y=-1 so it moves up\n",
    "       self.forward()\n",
    "\n",
    "    def diagonal_up_left(self):\n",
    "       self.direction = [-1,-1]\n",
    "       self.forward()\n",
    "\n",
    "    def diagonal_down_left(self):\n",
    "       self.direction = [-1,1]\n",
    "       self.forward()\n",
    "\n",
    "    def forward(self):\n",
    "        pos = [self.pos[0] + self.direction[0], self.pos[1] + self.direction[1]]\n",
    "        if not self.canvas.hitsWall(pos):\n",
    "            self.draw(pos)\n",
    "    \n",
    "    def drawSquare(self, size):\n",
    "        for i in range(size):\n",
    "            self.right()\n",
    "        for i in range(size):\n",
    "            self.down()\n",
    "        for i in range(size):\n",
    "            self.left()\n",
    "        for i in range(size):\n",
    "            self.up()\n",
    "\n",
    "    def drawDiamond(self, size):\n",
    "        for i in range(size):\n",
    "            self.down()\n",
    "        for i in range(size):\n",
    "            self.diagonal_up_right()\n",
    "        for i in range(size):\n",
    "            self.diagonal_down_right()\n",
    "        for i in range(size):\n",
    "            self.diagonal_down_left()\n",
    "        for i in range(size):\n",
    "            self.diagonal_up_left()\n",
    "\n",
    "    def draw(self, pos):\n",
    "        self.canvas.setPos(self.pos, self.trail)\n",
    "        self.pos = pos\n",
    "        self.canvas.setPos(self.pos, colored(self.mark, 'red'))\n",
    "        self.canvas.print()\n",
    "        time.sleep(self.framerate)"
   ]
  },
  {
   "cell_type": "code",
   "execution_count": 48,
   "id": "7a7ba758",
   "metadata": {},
   "outputs": [
    {
     "name": "stdout",
     "output_type": "stream",
     "text": [
      "square\n",
      "diamond\n",
      "zigzag\n"
     ]
    }
   ],
   "source": [
    "canvas = Canvas(30,30)\n",
    "for scribeData in scribes:\n",
    "    print(scribeData['name'])\n",
    "    scribeData['name'] = TerminalScribe(canvas)\n",
    "    scribeData['name'].setDegrees(scribeData['degrees'])\n",
    "    scribeData['name'].setPosition(scribeData['position'])\n",
    "    scribeData['instructions_flat'] = []\n",
    "    for instruction in scribeData['instructions']:\n",
    "        scribeData['instructions_flat'] = scribeData['instructions_flat'] + [instruction['direction']]*instruction['duration']"
   ]
  },
  {
   "cell_type": "code",
   "execution_count": 49,
   "id": "8e10bb58",
   "metadata": {},
   "outputs": [
    {
     "data": {
      "text/plain": [
       "['diagonal_up_left',\n",
       " 'diagonal_up_left',\n",
       " 'diagonal_up_left',\n",
       " 'diagonal_down_left',\n",
       " 'diagonal_down_left',\n",
       " 'diagonal_down_left',\n",
       " 'diagonal_up_left',\n",
       " 'diagonal_up_left',\n",
       " 'diagonal_up_left',\n",
       " 'diagonal_down_left',\n",
       " 'diagonal_down_left',\n",
       " 'diagonal_down_left',\n",
       " 'diagonal_up_left',\n",
       " 'diagonal_up_left',\n",
       " 'diagonal_up_left',\n",
       " 'diagonal_down_left',\n",
       " 'diagonal_down_left',\n",
       " 'diagonal_down_left']"
      ]
     },
     "execution_count": 49,
     "metadata": {},
     "output_type": "execute_result"
    }
   ],
   "source": [
    "scribeData['instructions_flat']"
   ]
  },
  {
   "cell_type": "code",
   "execution_count": 42,
   "id": "71ae7d71",
   "metadata": {},
   "outputs": [
    {
     "data": {
      "text/plain": [
       "['diagonal_up_right',\n",
       " 'diagonal_up_right',\n",
       " 'diagonal_up_right',\n",
       " 'diagonal_up_right',\n",
       " 'diagonal_up_right',\n",
       " 'diagonal_down_right',\n",
       " 'diagonal_down_right',\n",
       " 'diagonal_down_right',\n",
       " 'diagonal_down_right',\n",
       " 'diagonal_down_right',\n",
       " 'diagonal_down_left',\n",
       " 'diagonal_down_left',\n",
       " 'diagonal_down_left',\n",
       " 'diagonal_down_left',\n",
       " 'diagonal_down_left',\n",
       " 'diagonal_up_left',\n",
       " 'diagonal_up_left',\n",
       " 'diagonal_up_left',\n",
       " 'diagonal_up_left',\n",
       " 'diagonal_up_left']"
      ]
     },
     "execution_count": 42,
     "metadata": {},
     "output_type": "execute_result"
    }
   ],
   "source": []
  },
  {
   "cell_type": "code",
   "execution_count": 43,
   "id": "1d7225e5",
   "metadata": {},
   "outputs": [],
   "source": [
    "maxInstructionLength = max([len(scribeData['instructions_flat']) for scribeData in scribes])"
   ]
  },
  {
   "cell_type": "code",
   "execution_count": 44,
   "id": "f35c36ea",
   "metadata": {},
   "outputs": [
    {
     "data": {
      "text/plain": [
       "20"
      ]
     },
     "execution_count": 44,
     "metadata": {},
     "output_type": "execute_result"
    }
   ],
   "source": [
    "maxInstructionLength"
   ]
  },
  {
   "cell_type": "code",
   "execution_count": null,
   "id": "95baec35",
   "metadata": {},
   "outputs": [],
   "source": []
  }
 ],
 "metadata": {
  "kernelspec": {
   "display_name": "Python 3 (ipykernel)",
   "language": "python",
   "name": "python3"
  },
  "language_info": {
   "codemirror_mode": {
    "name": "ipython",
    "version": 3
   },
   "file_extension": ".py",
   "mimetype": "text/x-python",
   "name": "python",
   "nbconvert_exporter": "python",
   "pygments_lexer": "ipython3",
   "version": "3.8.10"
  }
 },
 "nbformat": 4,
 "nbformat_minor": 5
}

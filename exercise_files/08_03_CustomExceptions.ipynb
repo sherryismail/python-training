{
 "cells": [
  {
   "cell_type": "markdown",
   "id": "b0f022fe",
   "metadata": {},
   "source": [
    "## Custom Exceptions"
   ]
  },
  {
   "cell_type": "code",
   "execution_count": 3,
   "id": "a15ba290",
   "metadata": {},
   "outputs": [
    {
     "ename": "MyException",
     "evalue": "You called the causeError function!",
     "output_type": "error",
     "traceback": [
      "\u001b[0;31m---------------------------------------------------------------------------\u001b[0m",
      "\u001b[0;31mMyException\u001b[0m                               Traceback (most recent call last)",
      "Cell \u001b[0;32mIn [3], line 8\u001b[0m\n\u001b[1;32m      5\u001b[0m \u001b[39mdef\u001b[39;00m \u001b[39mcauseError\u001b[39m():\n\u001b[1;32m      6\u001b[0m     \u001b[39mraise\u001b[39;00m MyException(\u001b[39m'\u001b[39m\u001b[39mYou called the causeError function!\u001b[39m\u001b[39m'\u001b[39m)\n\u001b[0;32m----> 8\u001b[0m causeError()\n",
      "Cell \u001b[0;32mIn [3], line 6\u001b[0m, in \u001b[0;36mcauseError\u001b[0;34m()\u001b[0m\n\u001b[1;32m      5\u001b[0m \u001b[39mdef\u001b[39;00m \u001b[39mcauseError\u001b[39m():\n\u001b[0;32m----> 6\u001b[0m     \u001b[39mraise\u001b[39;00m MyException(\u001b[39m'\u001b[39m\u001b[39mYou called the causeError function!\u001b[39m\u001b[39m'\u001b[39m)\n",
      "\u001b[0;31mMyException\u001b[0m: You called the causeError function!"
     ]
    }
   ],
   "source": [
    "# good way to document any possible edge cases and solutions. \n",
    "# Separate common expected errors from project specific errors\n",
    "class MyException(Exception):\n",
    "    pass #key info is in the name\n",
    "\n",
    "\n",
    "def causeError():\n",
    "    raise MyException('You called the causeError function!')\n",
    "    \n",
    "causeError()"
   ]
  },
  {
   "cell_type": "markdown",
   "id": "b0cae9c9",
   "metadata": {},
   "source": [
    "### Adding Attributes"
   ]
  },
  {
   "cell_type": "code",
   "execution_count": 5,
   "id": "1b6caf83",
   "metadata": {},
   "outputs": [
    {
     "ename": "NotFound",
     "evalue": "Status code: 404 and message is: Resource not found",
     "output_type": "error",
     "traceback": [
      "\u001b[0;31m---------------------------------------------------------------------------\u001b[0m",
      "\u001b[0;31mNotFound\u001b[0m                                  Traceback (most recent call last)",
      "Cell \u001b[0;32mIn [5], line 18\u001b[0m\n\u001b[1;32m     15\u001b[0m \u001b[39mdef\u001b[39;00m \u001b[39mraiseServerError\u001b[39m():\n\u001b[1;32m     16\u001b[0m     \u001b[39mraise\u001b[39;00m NotFound()\n\u001b[0;32m---> 18\u001b[0m raiseServerError()\n",
      "Cell \u001b[0;32mIn [5], line 16\u001b[0m, in \u001b[0;36mraiseServerError\u001b[0;34m()\u001b[0m\n\u001b[1;32m     15\u001b[0m \u001b[39mdef\u001b[39;00m \u001b[39mraiseServerError\u001b[39m():\n\u001b[0;32m---> 16\u001b[0m     \u001b[39mraise\u001b[39;00m NotFound()\n",
      "\u001b[0;31mNotFound\u001b[0m: Status code: 404 and message is: Resource not found"
     ]
    }
   ],
   "source": [
    "class HttpException(Exception):\n",
    "    statusCode = None\n",
    "    message = None\n",
    "    def __init__(self):\n",
    "        super().__init__(f'Status code: {self.statusCode} and message is: {self.message}')\n",
    "        \n",
    "class NotFound(HttpException):\n",
    "    statusCode = 404\n",
    "    message = 'Resource not found'\n",
    "    \n",
    "class ServerError(HttpException):\n",
    "    statusCode = 500\n",
    "    message = 'The server messed up!'\n",
    "    \n",
    "def raiseServerError():\n",
    "    raise NotFound()\n",
    "    \n",
    "raiseServerError()"
   ]
  },
  {
   "cell_type": "code",
   "execution_count": null,
   "id": "2eabeda5",
   "metadata": {},
   "outputs": [],
   "source": []
  }
 ],
 "metadata": {
  "kernelspec": {
   "display_name": "Python 3.8.10 64-bit",
   "language": "python",
   "name": "python3"
  },
  "language_info": {
   "codemirror_mode": {
    "name": "ipython",
    "version": 3
   },
   "file_extension": ".py",
   "mimetype": "text/x-python",
   "name": "python",
   "nbconvert_exporter": "python",
   "pygments_lexer": "ipython3",
   "version": "3.8.10"
  },
  "vscode": {
   "interpreter": {
    "hash": "e7370f93d1d0cde622a1f8e1c04877d8463912d04d973331ad4851f04de6915a"
   }
  }
 },
 "nbformat": 4,
 "nbformat_minor": 5
}

{
 "cells": [
  {
   "cell_type": "markdown",
   "id": "fcb242f6",
   "metadata": {},
   "source": [
    "### Bytes"
   ]
  },
  {
   "cell_type": "code",
   "execution_count": 1,
   "id": "3c3ee6d8",
   "metadata": {},
   "outputs": [
    {
     "data": {
      "text/plain": [
       "b'\\x00\\x00\\x00\\x00'"
      ]
     },
     "execution_count": 1,
     "metadata": {},
     "output_type": "execute_result"
    }
   ],
   "source": [
    "bytes(4)"
   ]
  },
  {
   "cell_type": "code",
   "execution_count": 8,
   "id": "9a254973",
   "metadata": {},
   "outputs": [
    {
     "data": {
      "text/plain": [
       "b'\\xf0\\x9f\\x99\\x82'"
      ]
     },
     "execution_count": 8,
     "metadata": {},
     "output_type": "execute_result"
    }
   ],
   "source": [
    "smileyBytes = bytes('🙄', 'utf-8')\n",
    "small_smileyBytes = bytes('🙂', 'UTF-8')\n",
    "small_smileyBytes"
   ]
  },
  {
   "cell_type": "code",
   "execution_count": 9,
   "id": "a18b1572",
   "metadata": {},
   "outputs": [
    {
     "data": {
      "text/plain": [
       "'🙄'"
      ]
     },
     "execution_count": 9,
     "metadata": {},
     "output_type": "execute_result"
    }
   ],
   "source": [
    "smileyBytes.decode('utf-8')"
   ]
  },
  {
   "cell_type": "code",
   "execution_count": 10,
   "id": "48a506cd",
   "metadata": {},
   "outputs": [],
   "source": [
    "smileyBytes = bytearray('🙄', 'utf-8')"
   ]
  },
  {
   "cell_type": "code",
   "execution_count": 11,
   "id": "5e920566",
   "metadata": {},
   "outputs": [
    {
     "data": {
      "text/plain": [
       "bytearray(b'\\xf0\\x9f\\x99\\x84')"
      ]
     },
     "execution_count": 11,
     "metadata": {},
     "output_type": "execute_result"
    }
   ],
   "source": [
    "smileyBytes"
   ]
  },
  {
   "cell_type": "code",
   "execution_count": 12,
   "id": "6f5cb2b0",
   "metadata": {},
   "outputs": [],
   "source": [
    "smileyBytes[3] = int('85', 16)"
   ]
  },
  {
   "cell_type": "code",
   "execution_count": 13,
   "id": "8b5cd28d",
   "metadata": {},
   "outputs": [
    {
     "data": {
      "text/plain": [
       "'🙅'"
      ]
     },
     "execution_count": 13,
     "metadata": {},
     "output_type": "execute_result"
    }
   ],
   "source": [
    "smileyBytes.decode('utf-8')"
   ]
  },
  {
   "cell_type": "code",
   "execution_count": 14,
   "id": "fd1a7b83",
   "metadata": {},
   "outputs": [
    {
     "data": {
      "text/plain": [
       "bytearray(b'\\xf0\\x9f\\x99\\x85')"
      ]
     },
     "execution_count": 14,
     "metadata": {},
     "output_type": "execute_result"
    }
   ],
   "source": [
    "smileyBytes"
   ]
  },
  {
   "cell_type": "code",
   "execution_count": null,
   "id": "45a40eb5",
   "metadata": {},
   "outputs": [],
   "source": []
  }
 ],
 "metadata": {
  "kernelspec": {
   "display_name": "Python 3 (ipykernel)",
   "language": "python",
   "name": "python3"
  },
  "language_info": {
   "codemirror_mode": {
    "name": "ipython",
    "version": 3
   },
   "file_extension": ".py",
   "mimetype": "text/x-python",
   "name": "python",
   "nbconvert_exporter": "python",
   "pygments_lexer": "ipython3",
   "version": "3.8.10"
  }
 },
 "nbformat": 4,
 "nbformat_minor": 5
}
